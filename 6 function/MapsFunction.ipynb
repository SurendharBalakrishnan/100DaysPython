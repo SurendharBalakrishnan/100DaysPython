{
 "cells": [
  {
   "cell_type": "markdown",
   "metadata": {},
   "source": [
    "## map() Function in Python\n",
    "\n",
    "#### The map() function applies a given function nto all items in an input list( or any other iterable) and returns a map object(an iterator). This is a particularly useful for transforming data in a list comprehensively.\n"
   ]
  },
  {
   "cell_type": "code",
   "execution_count": 2,
   "metadata": {},
   "outputs": [
    {
     "data": {
      "text/plain": [
       "100"
      ]
     },
     "execution_count": 2,
     "metadata": {},
     "output_type": "execute_result"
    }
   ],
   "source": [
    "## example\n",
    "\n",
    "def square(x):\n",
    "    return x*x\n",
    "\n",
    "square(10)"
   ]
  },
  {
   "cell_type": "code",
   "execution_count": 5,
   "metadata": {},
   "outputs": [
    {
     "data": {
      "text/plain": [
       "[1, 4, 9, 16, 25, 4489, 64, 81, 100]"
      ]
     },
     "execution_count": 5,
     "metadata": {},
     "output_type": "execute_result"
    }
   ],
   "source": [
    "numbers=[1,2,3,4,5,67,8,9,10]\n",
    "\n",
    "\n",
    "## Using map() to apply the square function to each element in the numbers list\n",
    "\n",
    "list(map(square, numbers))\n"
   ]
  },
  {
   "cell_type": "code",
   "execution_count": 6,
   "metadata": {},
   "outputs": [
    {
     "data": {
      "text/plain": [
       "[1, 4, 9, 16, 25, 36]"
      ]
     },
     "execution_count": 6,
     "metadata": {},
     "output_type": "execute_result"
    }
   ],
   "source": [
    "## lambda function with map()\n",
    "\n",
    "number=[1,2,3,4,5,6]\n",
    "\n",
    "list(map(lambda x:x*x, number))"
   ]
  },
  {
   "cell_type": "code",
   "execution_count": 8,
   "metadata": {},
   "outputs": [
    {
     "name": "stdout",
     "output_type": "stream",
     "text": [
      "[5, 7, 9]\n"
     ]
    }
   ],
   "source": [
    "## map multiple iterables\n",
    "\n",
    "numbers1 = [1, 2, 3]\n",
    "numbers2 = [4, 5, 6]\n",
    "\n",
    "added_numbers = list(map(lambda x,y: x + y, numbers1, numbers2))\n",
    "print(added_numbers)  # Output: [5, 7, 9]"
   ]
  },
  {
   "cell_type": "code",
   "execution_count": 9,
   "metadata": {},
   "outputs": [
    {
     "name": "stdout",
     "output_type": "stream",
     "text": [
      "[1, 2, 3, 4, 5]\n"
     ]
    }
   ],
   "source": [
    "##map() to convert a list of strings to integers    \n",
    "# use map to covert a strings to integers\n",
    "\n",
    "str_numbers = ['1', '2', '3', '4', '5']\n",
    "int_numbers = list(map(int, str_numbers))\n",
    "\n",
    "print(int_numbers)  # Output: [1, 2, 3, 4, 5]\n"
   ]
  },
  {
   "cell_type": "code",
   "execution_count": 10,
   "metadata": {},
   "outputs": [
    {
     "name": "stdout",
     "output_type": "stream",
     "text": [
      "['APPLE', 'BANANA', 'CHERRY']\n"
     ]
    }
   ],
   "source": [
    "words = ['apple','banana','cherry']\n",
    "upper_words = list(map(str.upper, words))\n",
    "print(upper_words)  # Output: ['APPLE', 'BANANA', 'CHERRY"
   ]
  },
  {
   "cell_type": "code",
   "execution_count": 11,
   "metadata": {},
   "outputs": [
    {
     "data": {
      "text/plain": [
       "['Alice', 'Bob', 'Charlie']"
      ]
     },
     "execution_count": 11,
     "metadata": {},
     "output_type": "execute_result"
    }
   ],
   "source": [
    "## dictonary comprehension\n",
    "\n",
    "def get_name(person):\n",
    "    return person['name']\n",
    "\n",
    "people = [\n",
    "    {'name': 'Alice', 'age': 30},\n",
    "    {'name': 'Bob', 'age': 25},\n",
    "    {'name': 'Charlie', 'age': 35}\n",
    "]    \n",
    "\n",
    "list(map(get_name, people))"
   ]
  },
  {
   "cell_type": "markdown",
   "metadata": {},
   "source": [
    "#### Conclusion: map() function is a powerful tool for applying transformations to iterable data structures. it can be used with regular functions, lambda functions and even multiple iterables, providing a versatile approach to data processing in python. By understanding and utilizing map(), you can write more efficient and readable code."
   ]
  },
  {
   "cell_type": "markdown",
   "metadata": {},
   "source": []
  }
 ],
 "metadata": {
  "kernelspec": {
   "display_name": "Python 3",
   "language": "python",
   "name": "python3"
  },
  "language_info": {
   "codemirror_mode": {
    "name": "ipython",
    "version": 3
   },
   "file_extension": ".py",
   "mimetype": "text/x-python",
   "name": "python",
   "nbconvert_exporter": "python",
   "pygments_lexer": "ipython3",
   "version": "3.12.0"
  }
 },
 "nbformat": 4,
 "nbformat_minor": 2
}
