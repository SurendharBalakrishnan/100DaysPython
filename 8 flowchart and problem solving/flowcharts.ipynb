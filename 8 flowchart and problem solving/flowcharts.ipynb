{
 "cells": [
  {
   "cell_type": "markdown",
   "metadata": {},
   "source": [
    "## Flowcharts"
   ]
  },
  {
   "cell_type": "markdown",
   "metadata": {},
   "source": [
    "#### 1. A flow chart is a graphical representation of a process, system or algorithm\n",
    "#### 2. It uses symbols and arrows to show the sequence of steps needed to complete a task\n",
    "#### 3. Flow charts are useful in visualising how to solve a problem and make the process easier to follow"
   ]
  },
  {
   "cell_type": "markdown",
   "metadata": {},
   "source": [
    "## Pseudocode \n",
    "\n",
    "#### A Pseudo code is a simple way of describing an algorithm in plain language or a mix of code like and natural language instructions.\n",
    "\n",
    "#### It doesn't follow any specific programming language syntax, making it easier to understand , even for those without programming knowledge\n",
    "\n",
    "#### Pseudo code is often used as a step before writing actual code"
   ]
  }
 ],
 "metadata": {
  "kernelspec": {
   "display_name": "Python 3",
   "language": "python",
   "name": "python3"
  },
  "language_info": {
   "name": "python",
   "version": "3.12.0"
  }
 },
 "nbformat": 4,
 "nbformat_minor": 2
}
