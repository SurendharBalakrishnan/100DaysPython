{
 "cells": [
  {
   "cell_type": "markdown",
   "metadata": {},
   "source": [
    "## use case of List"
   ]
  },
  {
   "cell_type": "markdown",
   "metadata": {},
   "source": [
    "##### list are one of the most commonly used data structure in python \n",
    "##### 1. Manage a TODO List"
   ]
  },
  {
   "cell_type": "code",
   "execution_count": 1,
   "metadata": {},
   "outputs": [
    {
     "name": "stdout",
     "output_type": "stream",
     "text": [
      "Dont forget to pay the bill today before 12pm\n",
      "Todo List Remaining\n",
      "-Buying Groceries\n",
      "-Pay Bills\n",
      "-Schedule a meeting\n",
      "-Go for a run.\n"
     ]
    }
   ],
   "source": [
    "todo_list=[\"Buying Groceries\",\"clean the house\",\"Pay Bills\"]\n",
    "\n",
    "\n",
    "## Adding task\n",
    "\n",
    "todo_list.append(\"Schedule a meeting\")\n",
    "todo_list.append(\"Go for a run.\")\n",
    "\n",
    "## Remove the task\n",
    "\n",
    "todo_list.remove(\"clean the house\")\n",
    "\n",
    "##checking if the task in the list \n",
    "\n",
    "if \"Pay Bills\" in todo_list:\n",
    "    print(\"Dont forget to pay the bill today before 12pm\")\n",
    "\n",
    "print(\"Todo List Remaining\")\n",
    "\n",
    "for task in todo_list:\n",
    "    print(f\"-{task}\")"
   ]
  },
  {
   "cell_type": "code",
   "execution_count": 2,
   "metadata": {},
   "outputs": [
    {
     "name": "stdout",
     "output_type": "stream",
     "text": [
      "Average Grades: 88.00\n",
      "Highest Grade: 95\n",
      "Lowest Grade: 78\n"
     ]
    }
   ],
   "source": [
    "## Organizing Student Grades\n",
    "\n",
    "grades=[85,92,78,90,88]\n",
    "\n",
    "## Adding a new grade\n",
    "\n",
    "grades.append(95)\n",
    "\n",
    "## calculating the average grades\n",
    "\n",
    "average_grade = sum(grades) / len(grades)\n",
    "\n",
    "print(f\"Average Grades: {average_grade:.2f}\")\n",
    "\n",
    "## finding the highest and lowest grades\n",
    "\n",
    "highest_grade = max(grades)\n",
    "lowest_grade = min(grades)\n",
    "\n",
    "print(f\"Highest Grade: {highest_grade}\")\n",
    "print(f\"Lowest Grade: {lowest_grade}\")\n",
    "\n"
   ]
  },
  {
   "cell_type": "code",
   "execution_count": 4,
   "metadata": {},
   "outputs": [
    {
     "name": "stdout",
     "output_type": "stream",
     "text": [
      "oranges are in stock\n",
      "Inventory List:\n",
      "- apples\n",
      "- oranges\n",
      "- grapes\n",
      "- Strawberry\n"
     ]
    }
   ],
   "source": [
    "## Example 3 : Managing an Inventory\n",
    "\n",
    "\n",
    "inventory = [\"apples\",\"bananas\",\"oranges\",\"grapes\"]\n",
    "\n",
    "## adding a new item\n",
    "\n",
    "inventory.append(\"Strawberry\")\n",
    "\n",
    "\n",
    "## remove \"out of the stock\"\n",
    "\n",
    "inventory.remove(\"bananas\")\n",
    "\n",
    "\n",
    "## checking if an item is in stock\n",
    "\n",
    "item = \"oranges\"\n",
    "\n",
    "if item in inventory:\n",
    "    print(f\"{item} are in stock\")\n",
    "else:\n",
    "    print(f\"{item} out of the stock\")\n",
    "\n",
    "## printing the inventory\n",
    "\n",
    "print(\"Inventory List:\")\n",
    "\n",
    "for item in inventory:\n",
    "    print(f\"- {item}\")\n",
    "\n"
   ]
  },
  {
   "cell_type": "code",
   "execution_count": 5,
   "metadata": {},
   "outputs": [
    {
     "name": "stdout",
     "output_type": "stream",
     "text": [
      "Positive Feedback count: 2\n",
      "User Feedback:\n",
      "very good\n",
      "Great Service!\n",
      "could be better\n",
      "Excellent Experience\n",
      "Not happy with the service\n"
     ]
    }
   ],
   "source": [
    "## Collecting user Feedback\n",
    "\n",
    "\n",
    "## use a list to collect and analyze the feedback\n",
    "\n",
    "\n",
    "## collecting user feedback\n",
    "\n",
    "feedback = [\"very good\", \"Great Service!\",\"could be better\",\"Excellent Experience\"]\n",
    "\n",
    "\n",
    "## Adding New Feedback\n",
    "\n",
    "feedback.append(\"Not happy with the service\")\n",
    "\n",
    "## counting specific feedback \n",
    "\n",
    "positive_feedback_count = sum (1 for comment in feedback if \"great\" in comment.lower() or \"excellent\" in comment.lower() )\n",
    "\n",
    "print(f\"Positive Feedback count: {positive_feedback_count}\")\n",
    "\n",
    "## Printing all feedback\n",
    "\n",
    "print(\"User Feedback:\")\n",
    "\n",
    "for comment in feedback:\n",
    "    print(f\"{comment}\")\n",
    "\n"
   ]
  }
 ],
 "metadata": {
  "kernelspec": {
   "display_name": "Python 3",
   "language": "python",
   "name": "python3"
  },
  "language_info": {
   "codemirror_mode": {
    "name": "ipython",
    "version": 3
   },
   "file_extension": ".py",
   "mimetype": "text/x-python",
   "name": "python",
   "nbconvert_exporter": "python",
   "pygments_lexer": "ipython3",
   "version": "3.12.0"
  }
 },
 "nbformat": 4,
 "nbformat_minor": 2
}
