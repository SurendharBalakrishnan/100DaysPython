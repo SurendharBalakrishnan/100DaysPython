{
 "cells": [
  {
   "cell_type": "code",
   "execution_count": 1,
   "metadata": {},
   "outputs": [
    {
     "name": "stdout",
     "output_type": "stream",
     "text": [
      "Directory 'package' created.\n"
     ]
    }
   ],
   "source": [
    "## create a new directory \n",
    "\n",
    "new_directory = 'package'\n",
    "import os\n",
    "os.mkdir(new_directory)  # Create a new directory\n",
    "print(f\"Directory '{new_directory}' created.\")"
   ]
  },
  {
   "cell_type": "code",
   "execution_count": 2,
   "metadata": {},
   "outputs": [
    {
     "name": "stdout",
     "output_type": "stream",
     "text": [
      "['destination.txt', 'example.bin', 'example.txt', 'filepaths.ipynb', 'file_operation.ipynb', 'package']\n"
     ]
    }
   ],
   "source": [
    "## List files and Directories in a directory\n",
    "\n",
    "items = os.listdir('.')  # List items in the directory\n",
    "print(items)\n"
   ]
  },
  {
   "cell_type": "code",
   "execution_count": 3,
   "metadata": {},
   "outputs": [
    {
     "name": "stdout",
     "output_type": "stream",
     "text": [
      "folder\\file.txt\n"
     ]
    }
   ],
   "source": [
    "### Joining Paths\n",
    "\n",
    "dir_name = \"folder\"\n",
    "file_name = \"file.txt\"\n",
    "\n",
    "full_path = os.path.join(dir_name, file_name)  # Join directory and file name\n",
    "print(full_path)  # Output: folder/file.txt (or folder\\file.txt on Windows"
   ]
  },
  {
   "cell_type": "code",
   "execution_count": 4,
   "metadata": {},
   "outputs": [
    {
     "name": "stdout",
     "output_type": "stream",
     "text": [
      "c:\\Users\\surendhar b\\Desktop\\100DaysChallange\\100DaysPython\\DS ML\\9 File Handling in Python\\folder\\file.txt\n"
     ]
    }
   ],
   "source": [
    "dir_name = \"folder\"\n",
    "file_name = \"file.txt\"\n",
    "\n",
    "full_path = os.path.join(os.getcwd(),dir_name, file_name)  # Join directory and file name\n",
    "print(full_path)  # Output: folder/file.txt (or folder\\file.txt on Windows"
   ]
  },
  {
   "cell_type": "code",
   "execution_count": null,
   "metadata": {},
   "outputs": [
    {
     "name": "stdout",
     "output_type": "stream",
     "text": [
      "The file example1.txt  does not exist.\n"
     ]
    }
   ],
   "source": [
    "## check file is there or not\n",
    "path='example1.txt '\n",
    "if os.path.exists(path):\n",
    "    print(f\"The file {path} exists.\")\n",
    "else:\n",
    "    print(f\"The file {path} does not exist.\")    "
   ]
  },
  {
   "cell_type": "code",
   "execution_count": 9,
   "metadata": {},
   "outputs": [
    {
     "name": "stdout",
     "output_type": "stream",
     "text": [
      "The file example1.txt is neither a file nor a directory.\n"
     ]
    }
   ],
   "source": [
    "import os\n",
    "\n",
    "path = 'example1.txt'\n",
    "\n",
    "if os.path.exists(path):\n",
    "    print(f\"The file {path} exists.\")\n",
    "elif os.path.isdir(path):\n",
    "    print(f\"The path {path} is a directory.\")\n",
    "else:\n",
    "    print(f\"The file {path} is neither a file nor a directory.\")    "
   ]
  },
  {
   "cell_type": "code",
   "execution_count": 11,
   "metadata": {},
   "outputs": [
    {
     "name": "stdout",
     "output_type": "stream",
     "text": [
      "Absolute path of 'example.txt' is: c:\\Users\\surendhar b\\Desktop\\100DaysChallange\\100DaysPython\\DS ML\\9 File Handling in Python\\example.txt\n"
     ]
    }
   ],
   "source": [
    "## Getting absolute path of a file\n",
    "\n",
    "relative_path = 'example.txt'\n",
    "absolute_path = os.path.abspath(relative_path)  # Get absolute path\n",
    "print(f\"Absolute path of '{relative_path}' is: {absolute_path}\")"
   ]
  },
  {
   "cell_type": "code",
   "execution_count": null,
   "metadata": {},
   "outputs": [],
   "source": []
  }
 ],
 "metadata": {
  "kernelspec": {
   "display_name": "Python 3",
   "language": "python",
   "name": "python3"
  },
  "language_info": {
   "codemirror_mode": {
    "name": "ipython",
    "version": 3
   },
   "file_extension": ".py",
   "mimetype": "text/x-python",
   "name": "python",
   "nbconvert_exporter": "python",
   "pygments_lexer": "ipython3",
   "version": "3.12.0"
  }
 },
 "nbformat": 4,
 "nbformat_minor": 2
}
