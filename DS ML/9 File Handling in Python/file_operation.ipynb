{
 "cells": [
  {
   "cell_type": "markdown",
   "metadata": {},
   "source": [
    "#### File Operation - Read and Write Files\n",
    "\n",
    "#### File Handling is a crucial part of any programming language. Python provides built0in functions and methods to read from and write to files, both text and binary. This lesson will cover the basics of file handling , including reading and writing text files and binary files."
   ]
  },
  {
   "cell_type": "code",
   "execution_count": 2,
   "metadata": {},
   "outputs": [
    {
     "name": "stdout",
     "output_type": "stream",
     "text": [
      "hello how are you\n",
      "I am good\n",
      "this is surendhar\n"
     ]
    }
   ],
   "source": [
    "## Read a whole file \n",
    "\n",
    "with open('example.txt','r') as file:\n",
    "    content = file.read()\n",
    "    print(content)  # Output: Content of the file"
   ]
  },
  {
   "cell_type": "code",
   "execution_count": null,
   "metadata": {},
   "outputs": [
    {
     "name": "stdout",
     "output_type": "stream",
     "text": [
      "hello how are you\n",
      "I am good\n",
      "this is surendhar\n"
     ]
    }
   ],
   "source": [
    "## Read a file line by line \n",
    "\n",
    "with open('example.txt', 'r') as file:\n",
    "    for line in file:\n",
    "        print(line.strip())   ## strip() removes the newline character\n",
    "        # Output: Each line of the file without leading/trailing whitespace"
   ]
  },
  {
   "cell_type": "code",
   "execution_count": 4,
   "metadata": {},
   "outputs": [],
   "source": [
    "## writing a file (Overwriting)\n",
    "\n",
    "with open('example.txt', 'w') as file:\n",
    "    file.write(\"This is a new line.\\n\")\n",
    "    file.write(\"This is another line.\\n\")"
   ]
  },
  {
   "cell_type": "code",
   "execution_count": 5,
   "metadata": {},
   "outputs": [],
   "source": [
    "## WRITE A file without overwritting \n",
    "\n",
    "with open('example.txt', 'a') as file:\n",
    "    file.write(\"This line is appended.\\n\")\n",
    "    file.write(\"This is another appended line.\\n\")"
   ]
  },
  {
   "cell_type": "code",
   "execution_count": 6,
   "metadata": {},
   "outputs": [],
   "source": [
    "## Writing list of lines\n",
    "\n",
    "lines=[\"This is a new line.\\n\",\n",
    "        \"This is second line.\\n\",\n",
    "        \"This is third line.\\n\"]\n",
    "\n",
    "with open('example.txt', 'a') as file:\n",
    "    file.writelines(lines)  # Write multiple lines at once        "
   ]
  },
  {
   "cell_type": "code",
   "execution_count": 7,
   "metadata": {},
   "outputs": [],
   "source": [
    "## Binary File Handling\n",
    "\n",
    "#Writing to a binary file \n",
    "data = b'\\x00\\x01\\x02\\x03\\x04\\x05\\x06\\x07\\x08\\x09'\n",
    "with open('example.bin', 'wb') as file:\n",
    "    file.write(data)  # Write binary data to the file"
   ]
  },
  {
   "cell_type": "code",
   "execution_count": 8,
   "metadata": {},
   "outputs": [
    {
     "name": "stdout",
     "output_type": "stream",
     "text": [
      "b'\\x00\\x01\\x02\\x03\\x04\\x05\\x06\\x07\\x08\\t'\n"
     ]
    }
   ],
   "source": [
    "## Reading from a binary file\n",
    "with open('example.bin', 'rb') as file:\n",
    "    binary_content = file.read()\n",
    "    print(binary_content)  # Output: b'\\x00\\x01\\x02\\x03\\x04\\x05\\x06\\x07\\x08\\t'"
   ]
  },
  {
   "cell_type": "code",
   "execution_count": 10,
   "metadata": {},
   "outputs": [],
   "source": [
    "### Read the content from a source text file and write to a destination text file\n",
    "with open('example.txt', 'r') as source_file:\n",
    "    content = source_file.read()\n",
    "\n",
    "with open('destination.txt', 'w') as destination_file:\n",
    "    destination_file.write(content)    "
   ]
  },
  {
   "cell_type": "code",
   "execution_count": null,
   "metadata": {},
   "outputs": [
    {
     "name": "stdout",
     "output_type": "stream",
     "text": [
      "Number of words: 31\n",
      "Number of lines: 7\n",
      "Number of characters: 157\n"
     ]
    }
   ],
   "source": [
    "## Assignment : Read the text file and count the number of words, lines and characters\n",
    "#method 1 :\n",
    "with open('example.txt', 'r') as file:\n",
    "    content = file.read()\n",
    "    num_words = len(content.split())\n",
    "    num_lines = len(content.splitlines())\n",
    "    num_chars = len(content)\n",
    "\n",
    "    print(f\"Number of words: {num_words}\")\n",
    "    print(f\"Number of lines: {num_lines}\")\n",
    "    print(f\"Number of characters: {num_chars}\")"
   ]
  },
  {
   "cell_type": "code",
   "execution_count": 12,
   "metadata": {},
   "outputs": [
    {
     "name": "stdout",
     "output_type": "stream",
     "text": [
      "Number of words: 7\n",
      "Number of lines: 31\n",
      "Number of characters: 157\n"
     ]
    }
   ],
   "source": [
    "# method 2 :\n",
    "\n",
    "def count_file_properties(file_path):\n",
    "    with open(file_path, 'r') as file:\n",
    "        content = file.read()\n",
    "        num_words = len(content.split())\n",
    "        num_lines = len(content.splitlines())\n",
    "        num_chars = len(content)\n",
    "\n",
    "    return num_words, num_lines, num_chars\n",
    "\n",
    "file_path = 'example.txt'\n",
    "lines, words, chars = count_file_properties(file_path)\n",
    "print(f\"Number of words: {words}\")\n",
    "print(f\"Number of lines: {lines}\")\n",
    "print(f\"Number of characters: {chars}\")    "
   ]
  },
  {
   "cell_type": "markdown",
   "metadata": {},
   "source": [
    "#### the w+ mode in python is used to open a file fro both reading and writing. If the file does not exist, it will be created, if the file exisits , it content is truncated (i.e, the file is overwrittern)"
   ]
  },
  {
   "cell_type": "code",
   "execution_count": 19,
   "metadata": {},
   "outputs": [
    {
     "ename": "IndentationError",
     "evalue": "unexpected indent (1488413144.py, line 11)",
     "output_type": "error",
     "traceback": [
      "  \u001b[36mCell\u001b[39m\u001b[36m \u001b[39m\u001b[32mIn[19]\u001b[39m\u001b[32m, line 11\u001b[39m\n\u001b[31m    \u001b[39m\u001b[31mcontents = file.read()\u001b[39m\n    ^\n\u001b[31mIndentationError\u001b[39m\u001b[31m:\u001b[39m unexpected indent\n"
     ]
    }
   ],
   "source": [
    "## Writing and then read a file \n",
    "\n",
    "with open('example.txt', 'w+') as file:\n",
    "    file.write(\"This is a new line.\\n\")\n",
    "    file.write(\"This is another line.\\n\")\n",
    "\n",
    "## move the file curzsor to the beginning of the file    \n",
    "\n",
    "##  read the content of the file\n",
    "file.seek(0)  # Move the cursor to the beginning of the file\n",
    "    contents = file.read()\n",
    "    print(contents)  # Output: Content of the file"
   ]
  },
  {
   "cell_type": "code",
   "execution_count": null,
   "metadata": {},
   "outputs": [],
   "source": []
  }
 ],
 "metadata": {
  "kernelspec": {
   "display_name": "Python 3",
   "language": "python",
   "name": "python3"
  },
  "language_info": {
   "codemirror_mode": {
    "name": "ipython",
    "version": 3
   },
   "file_extension": ".py",
   "mimetype": "text/x-python",
   "name": "python",
   "nbconvert_exporter": "python",
   "pygments_lexer": "ipython3",
   "version": "3.12.0"
  }
 },
 "nbformat": 4,
 "nbformat_minor": 2
}
