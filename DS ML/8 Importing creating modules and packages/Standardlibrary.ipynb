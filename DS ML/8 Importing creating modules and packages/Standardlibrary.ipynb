{
 "cells": [
  {
   "cell_type": "markdown",
   "metadata": {},
   "source": [
    "#### Standard Library Overview \n",
    "\n",
    "#### Python's Standard Library is a vast collection of modules and packages that come bundled with Python, providing a wide range of functionalities out of the box. Here's an overview of some of the most comonly used modules and packages in the Python Standard Library "
   ]
  },
  {
   "cell_type": "code",
   "execution_count": 1,
   "metadata": {},
   "outputs": [
    {
     "name": "stdout",
     "output_type": "stream",
     "text": [
      "array('i', [1, 2, 3, 4, 5])\n"
     ]
    }
   ],
   "source": [
    "import array\n",
    "\n",
    "arr = array.array('i', [1, 2, 3, 4, 5])\n",
    "print(arr)  # Output: array('i', [1, 2, 3, 4, 5])"
   ]
  },
  {
   "cell_type": "code",
   "execution_count": 2,
   "metadata": {},
   "outputs": [
    {
     "name": "stdout",
     "output_type": "stream",
     "text": [
      "4.0\n",
      "3.141592653589793\n"
     ]
    }
   ],
   "source": [
    "import math\n",
    "print(math.sqrt(16))  # Output: 4.0\n",
    "print(math.pi)  # Output: 3.141592653589793"
   ]
  },
  {
   "cell_type": "code",
   "execution_count": 6,
   "metadata": {},
   "outputs": [
    {
     "name": "stdout",
     "output_type": "stream",
     "text": [
      "4\n",
      "banana\n"
     ]
    }
   ],
   "source": [
    "## random\n",
    "import random\n",
    "print(random.randint(1, 10))  # Output: Random integer between 1 and 10\n",
    "print(random.choice(['apple', 'banana', 'cherry']))  # Output: Random choice from the list"
   ]
  },
  {
   "cell_type": "code",
   "execution_count": 7,
   "metadata": {},
   "outputs": [
    {
     "name": "stdout",
     "output_type": "stream",
     "text": [
      "c:\\Users\\surendhar b\\Desktop\\100DaysChallange\\100DaysPython\\DS ML\\8 Importing creating modules and packages\n",
      "['import modules and package.ipynb', 'package', 'Standardlibrary.ipynb', 'test.py']\n"
     ]
    }
   ],
   "source": [
    "## File and Directory Access\n",
    "import os\n",
    "print(os.getcwd())  # Output: Current working directory\n",
    "print(os.listdir('.'))  # Output: List of files and directories in the current directory"
   ]
  },
  {
   "cell_type": "code",
   "execution_count": 8,
   "metadata": {},
   "outputs": [],
   "source": [
    "os.makedirs('test_dir', exist_ok=True)  # Create a new directory if it doesn't exist"
   ]
  },
  {
   "cell_type": "code",
   "execution_count": 9,
   "metadata": {},
   "outputs": [
    {
     "data": {
      "text/plain": [
       "'destination.txt'"
      ]
     },
     "execution_count": 9,
     "metadata": {},
     "output_type": "execute_result"
    }
   ],
   "source": [
    "## high level operations on files and collection of files\n",
    "import shutil\n",
    "shutil.copy('source.txt', 'destination.txt')  # Copy a file"
   ]
  },
  {
   "cell_type": "code",
   "execution_count": 11,
   "metadata": {},
   "outputs": [
    {
     "name": "stdout",
     "output_type": "stream",
     "text": [
      "{\"name\": \"Alice\", \"age\": 30}\n",
      "<class 'str'>\n",
      "{'name': 'Alice', 'age': 30}\n",
      "<class 'dict'>\n"
     ]
    }
   ],
   "source": [
    "## Data Serialization\n",
    "import json\n",
    "data = {'name': 'Alice', 'age': 30}\n",
    "\n",
    "json_str=json.dumps(data)  # Convert Python object to JSON string\n",
    "print(json_str)  # Output: {\"name\": \"Alice\", \"age\": 30}\n",
    "print(type(json_str))  # Convert JSON string back to Python object\n",
    "\n",
    "parsed_data= json.loads(json_str)  # Convert JSON string back to Python object\n",
    "print(parsed_data)  # Output: {'name': 'Alice', 'age': 30}\n",
    "print(type(parsed_data))  # Output: <class 'dict'>\n"
   ]
  },
  {
   "cell_type": "code",
   "execution_count": 13,
   "metadata": {},
   "outputs": [
    {
     "name": "stdout",
     "output_type": "stream",
     "text": [
      "['Name', 'Age', 'City']\n",
      "['Alice', '30', 'New York']\n",
      "['Bob', '25', 'Los Angeles']\n"
     ]
    }
   ],
   "source": [
    "## csv\n",
    "\n",
    "import csv\n",
    "\n",
    "with open('example.csv',mode='w', newline='') as file:\n",
    "    writer = csv.writer(file)\n",
    "    writer.writerow(['Name', 'Age', 'City'])\n",
    "    writer.writerow(['Alice', 30, 'New York'])\n",
    "    writer.writerow(['Bob', 25, 'Los Angeles'])\n",
    "\n",
    "with open('example.csv', mode='r') as file:\n",
    "    reader = csv.reader(file)\n",
    "    for row in reader:\n",
    "        print(row)  # Output: ['Name', 'Age', 'City'], ['Alice', '30', 'New York'], ['Bob', '25', 'Los Angeles']    "
   ]
  },
  {
   "cell_type": "code",
   "execution_count": 14,
   "metadata": {},
   "outputs": [
    {
     "name": "stdout",
     "output_type": "stream",
     "text": [
      "2025-08-06 22:28:30.418755\n"
     ]
    }
   ],
   "source": [
    "## datetime\n",
    "from datetime import datetime, timedelta\n",
    "\n",
    "now = datetime.now()\n",
    "print(now)  # Output: Current date and time"
   ]
  },
  {
   "cell_type": "code",
   "execution_count": 15,
   "metadata": {},
   "outputs": [
    {
     "name": "stdout",
     "output_type": "stream",
     "text": [
      "2025-08-05 22:28:30.418755\n"
     ]
    }
   ],
   "source": [
    "yesterday = now - timedelta(days=1)\n",
    "print(yesterday)  # Output: Date and time of yesterday"
   ]
  },
  {
   "cell_type": "code",
   "execution_count": 16,
   "metadata": {},
   "outputs": [
    {
     "name": "stdout",
     "output_type": "stream",
     "text": [
      "1754499607.2195396\n",
      "2 seconds later\n",
      "1754499609.2219768\n"
     ]
    }
   ],
   "source": [
    "## time\n",
    "\n",
    "import time\n",
    "print(time.time())  # Output: Current time in seconds since the epoch\n",
    "time.sleep(2)  # Pause execution for 2 seconds\n",
    "print(\"2 seconds later\")  # Output: 2 seconds later\n",
    "print(time.time())  # Output: Current time in seconds since the epoch after sleep"
   ]
  },
  {
   "cell_type": "code",
   "execution_count": 17,
   "metadata": {},
   "outputs": [
    {
     "name": "stdout",
     "output_type": "stream",
     "text": [
      "123\n"
     ]
    }
   ],
   "source": [
    "## Regular Expressions\n",
    "import re\n",
    "\n",
    "pattern = r'\\d+'\n",
    "text = 'There are 123 apples and 456 oranges.'\n",
    "match=re.search(pattern,text)\n",
    "print(match.group())  # Output: 123 (first match of the pattern)"
   ]
  }
 ],
 "metadata": {
  "kernelspec": {
   "display_name": "Python 3",
   "language": "python",
   "name": "python3"
  },
  "language_info": {
   "codemirror_mode": {
    "name": "ipython",
    "version": 3
   },
   "file_extension": ".py",
   "mimetype": "text/x-python",
   "name": "python",
   "nbconvert_exporter": "python",
   "pygments_lexer": "ipython3",
   "version": "3.12.0"
  }
 },
 "nbformat": 4,
 "nbformat_minor": 2
}
