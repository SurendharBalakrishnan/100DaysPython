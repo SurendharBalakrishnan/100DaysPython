{
 "cells": [
  {
   "cell_type": "markdown",
   "metadata": {},
   "source": [
    "## Condition statement if,elif,else"
   ]
  },
  {
   "cell_type": "code",
   "execution_count": 4,
   "metadata": {},
   "outputs": [
    {
     "name": "stdout",
     "output_type": "stream",
     "text": [
      "You are eligible to vote\n"
     ]
    }
   ],
   "source": [
    "## IF STATEMENT\n",
    "\n",
    "age=20\n",
    "\n",
    "if age >= 18:\n",
    "    print(\"You are eligible to vote\")\n",
    "else:\n",
    "    print(\"You are not eligible to vote\")"
   ]
  },
  {
   "cell_type": "code",
   "execution_count": 5,
   "metadata": {},
   "outputs": [
    {
     "data": {
      "text/plain": [
       "True"
      ]
     },
     "execution_count": 5,
     "metadata": {},
     "output_type": "execute_result"
    }
   ],
   "source": [
    "age >= 18"
   ]
  },
  {
   "cell_type": "code",
   "execution_count": 8,
   "metadata": {},
   "outputs": [
    {
     "name": "stdout",
     "output_type": "stream",
     "text": [
      "You are a minor\n"
     ]
    }
   ],
   "source": [
    "## else\n",
    "## else statement is used to execute a block of code when the condition in the if statement is false.\n",
    "\n",
    "age=16\n",
    "if age >=18:\n",
    "    print(\"You are eligible for voting\")\n",
    "else:\n",
    "    print(\"You are a minor\")    "
   ]
  },
  {
   "cell_type": "code",
   "execution_count": 12,
   "metadata": {},
   "outputs": [
    {
     "name": "stdout",
     "output_type": "stream",
     "text": [
      "You are a teenager\n"
     ]
    }
   ],
   "source": [
    "## elif statement\n",
    "## elif statement is used to check multiple conditions in a single if-else block.\n",
    "\n",
    "age=18\n",
    "if age < 13:\n",
    "    print(\"You are a child\")\n",
    "elif age < 20:\n",
    "    print(\"You are a teenager\")\n",
    "elif age < 60:\n",
    "    print(\"You are an adult\")"
   ]
  },
  {
   "cell_type": "code",
   "execution_count": 15,
   "metadata": {},
   "outputs": [
    {
     "name": "stdout",
     "output_type": "stream",
     "text": [
      "The number is zero or negative\n"
     ]
    }
   ],
   "source": [
    "## nested conditional statements\n",
    "\n",
    "## you can place an if statement inside another if statement to create nested conditional statements.\n",
    "\n",
    "## number -> even , odd, negative, positive\n",
    "\n",
    "num=int(input(\"Enter a number: \"))\n",
    "\n",
    "if num >= 0:\n",
    "    print(\"The number is positive\")\n",
    "    if num % 2 == 0:\n",
    "        print(\"The number is even\")\n",
    "    else:\n",
    "        print(\"The number is odd\")\n",
    "else:\n",
    "    print(\"The number is zero or negative\")\n"
   ]
  },
  {
   "cell_type": "code",
   "execution_count": 18,
   "metadata": {},
   "outputs": [
    {
     "name": "stdout",
     "output_type": "stream",
     "text": [
      "2001 is not a leap year2\n"
     ]
    }
   ],
   "source": [
    "## Pratical example\n",
    "\n",
    "## Determine if a year is a leap year or not, using nested condition statement \n",
    "\n",
    "year = int(input(\"Enter a year: \"))\n",
    "\n",
    "if year % 4 == 0:\n",
    "    if year % 100 == 0:\n",
    "        if year % 400 == 0:\n",
    "            print(f\"{year} is a leap year1\")\n",
    "        else:\n",
    "            print(f\"{year} is not a leap year1\")\n",
    "    else:\n",
    "        print(f\"{year} is a leap year2\")\n",
    "else:\n",
    "    print(f\"{year} is not a leap year2\")      "
   ]
  },
  {
   "cell_type": "code",
   "execution_count": 19,
   "metadata": {},
   "outputs": [
    {
     "name": "stdout",
     "output_type": "stream",
     "text": [
      "The result is: 24.0\n"
     ]
    }
   ],
   "source": [
    "## Assignment \n",
    "## Simple Calculator Program\n",
    "\n",
    "num1 = float(input(\"Enter first number: \"))\n",
    "num2 = float(input(\"Enter second number: \"))\n",
    "operation = input(\"Enter operation (+, -, *, /): \")\n",
    "\n",
    "# Perform the operation based on user input\n",
    "if operation == '+':\n",
    "    result = num1 + num2\n",
    "elif operation == '-':\n",
    "    result = num1 - num2   \n",
    "elif operation == '*':\n",
    "    result = num1 * num2\n",
    "elif operation == '/':\n",
    "    if num2 != 0:\n",
    "        result = num1 / num2\n",
    "    else:\n",
    "        result = \"Error: Division by zero is not allowed.\"\n",
    "else:\n",
    "    result = \"Error: Invalid operation.\"\n",
    "print(f\"The result is: {result}\")\n",
    "\n"
   ]
  },
  {
   "cell_type": "code",
   "execution_count": 20,
   "metadata": {},
   "outputs": [
    {
     "name": "stdout",
     "output_type": "stream",
     "text": [
      "The ticket price is: $15\n"
     ]
    }
   ],
   "source": [
    "## assignment 2\n",
    "\n",
    "## Determine the ticket price based on age and whether the person is a student or not.\n",
    "# Ticket Pricing based on Age and Student Status\n",
    "\n",
    "## take User Input\n",
    "age= int(input(\"enter your age: \"))\n",
    "is_student = input(\"Are you a student? (yes/no): \").strip().lower()\n",
    "\n",
    "## Determine ticket price\n",
    "\n",
    "if age < 5:\n",
    "    price = \"Free\"\n",
    "elif age < 12:\n",
    "    price = \"$5\"\n",
    "elif age < 17:\n",
    "    if is_student == \"yes\":\n",
    "        price = \"$7\"\n",
    "    else:\n",
    "        price = \"$10\"\n",
    "elif age < 60:\n",
    "    price = \"$15\"\n",
    "else:\n",
    "    price = \"$20\"\n",
    "\n",
    "print(f\"The ticket price is: {price}\")"
   ]
  },
  {
   "cell_type": "code",
   "execution_count": null,
   "metadata": {},
   "outputs": [],
   "source": []
  }
 ],
 "metadata": {
  "kernelspec": {
   "display_name": "Python 3",
   "language": "python",
   "name": "python3"
  },
  "language_info": {
   "codemirror_mode": {
    "name": "ipython",
    "version": 3
   },
   "file_extension": ".py",
   "mimetype": "text/x-python",
   "name": "python",
   "nbconvert_exporter": "python",
   "pygments_lexer": "ipython3",
   "version": "3.12.0"
  }
 },
 "nbformat": 4,
 "nbformat_minor": 2
}
