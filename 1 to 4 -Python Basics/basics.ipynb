{
 "cells": [
  {
   "cell_type": "markdown",
   "metadata": {},
   "source": [
    "### 100 Days of Coding "
   ]
  },
  {
   "cell_type": "markdown",
   "metadata": {},
   "source": [
    "### python Basics"
   ]
  },
  {
   "cell_type": "code",
   "execution_count": 1,
   "metadata": {},
   "outputs": [
    {
     "data": {
      "text/plain": [
       "2"
      ]
     },
     "execution_count": 1,
     "metadata": {},
     "output_type": "execute_result"
    }
   ],
   "source": [
    "1+1"
   ]
  },
  {
   "cell_type": "markdown",
   "metadata": {},
   "source": [
    "### Syntax is about the correct arrangement of words and symbols in a programming language.\n",
    "### Semantics is about the meaning of those words and symbols.it is about what the code is supposed to do."
   ]
  },
  {
   "cell_type": "code",
   "execution_count": null,
   "metadata": {},
   "outputs": [
    {
     "name": "stdout",
     "output_type": "stream",
     "text": [
      "surendhar\n",
      "balakrishnan\n"
     ]
    }
   ],
   "source": [
    "# Python Basics\n",
    "#Case sensitivity\n",
    "# Python is case-sensitive, meaning that `Variable`, `variable`, and `VARIABLE` are all different identifiers.\n",
    "\n",
    "name=\"surendhar\"\n",
    "Name=\"balakrishnan\"\n",
    "\n",
    "print(name)  # Output: surendhar\n",
    "print(Name)  # Output: balakrishnan\n",
    "\n"
   ]
  },
  {
   "cell_type": "markdown",
   "metadata": {},
   "source": [
    "## Indentation\n",
    "### Indentation is crucial in Python as it defines the structure and flow of the code.\n",
    "### Unlike many other programming languages that use braces `{}` to define blocks of code, Python uses indentation to indicate a block of code."
   ]
  },
  {
   "cell_type": "code",
   "execution_count": 4,
   "metadata": {},
   "outputs": [
    {
     "name": "stdout",
     "output_type": "stream",
     "text": [
      "You are an adult.\n",
      "25\n"
     ]
    }
   ],
   "source": [
    "age = 25\n",
    "if age > 18:\n",
    "    print(\"You are an adult.\")\n",
    "\n",
    "print (age)\n"
   ]
  },
  {
   "cell_type": "code",
   "execution_count": 6,
   "metadata": {},
   "outputs": [
    {
     "name": "stdout",
     "output_type": "stream",
     "text": [
      "150\n"
     ]
    }
   ],
   "source": [
    "## Line Continuation\n",
    "# In Python, you can use a backslash (`\\`) to indicate that a line of\n",
    "# code continues on the next line. This is useful for long lines of code\n",
    "\n",
    "total = 10 + 20 + 30 + \\\n",
    "40 + 50\n",
    "print(total)  # Output: 150"
   ]
  },
  {
   "cell_type": "code",
   "execution_count": 7,
   "metadata": {},
   "outputs": [
    {
     "name": "stdout",
     "output_type": "stream",
     "text": [
      "15\n"
     ]
    }
   ],
   "source": [
    "## Multiple statements on a single line\n",
    "# You can write multiple statements on a single line by separating them with a semicolon (`;\n",
    "\n",
    "x=5;y=10;z=x+y\n",
    "print(z)  # Output: 15"
   ]
  },
  {
   "cell_type": "code",
   "execution_count": 9,
   "metadata": {},
   "outputs": [
    {
     "name": "stdout",
     "output_type": "stream",
     "text": [
      "<class 'int'>\n",
      "<class 'str'>\n"
     ]
    }
   ],
   "source": [
    "## Semantics\n",
    "## Variable assignment\n",
    "## In Python, you can assign a value to a variable using the `=` operator.\n",
    "\n",
    "age=30\n",
    "name=\"surendhar\"\n",
    "\n",
    "type_of_age = type(age)\n",
    "type_of_name = type(name)\n",
    "\n",
    "print(type_of_age)  # Output: <class 'int'>\n",
    "print(type_of_name)  # Output: <class 'str'>"
   ]
  },
  {
   "cell_type": "code",
   "execution_count": 10,
   "metadata": {},
   "outputs": [
    {
     "name": "stdout",
     "output_type": "stream",
     "text": [
      "<class 'int'>\n",
      "<class 'str'>\n"
     ]
    }
   ],
   "source": [
    "## Type Inference\n",
    "variable=10\n",
    "print(type(variable))  # Output: <class 'int'>\n",
    "variable=\"Hello\"\n",
    "print(type(variable))  # Output: <class 'str'>"
   ]
  },
  {
   "cell_type": "code",
   "execution_count": 11,
   "metadata": {},
   "outputs": [
    {
     "name": "stdout",
     "output_type": "stream",
     "text": [
      "This is true\n",
      "This is still true\n",
      "Outside the if block\n"
     ]
    }
   ],
   "source": [
    "## Code Example for indentation\n",
    "\n",
    "if True:\n",
    "    print(\"This is true\")\n",
    "    if False:\n",
    "        print(\"This is false\")\n",
    "    print(\"This is still true\")\n",
    "print(\"Outside the if block\")\n"
   ]
  },
  {
   "cell_type": "code",
   "execution_count": null,
   "metadata": {},
   "outputs": [],
   "source": []
  }
 ],
 "metadata": {
  "kernelspec": {
   "display_name": "Python 3",
   "language": "python",
   "name": "python3"
  },
  "language_info": {
   "codemirror_mode": {
    "name": "ipython",
    "version": 3
   },
   "file_extension": ".py",
   "mimetype": "text/x-python",
   "name": "python",
   "nbconvert_exporter": "python",
   "pygments_lexer": "ipython3",
   "version": "3.12.0"
  }
 },
 "nbformat": 4,
 "nbformat_minor": 2
}
